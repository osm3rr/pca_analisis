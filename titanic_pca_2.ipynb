{
 "cells": [
  {
   "cell_type": "markdown",
   "id": "dc8d0e7e",
   "metadata": {},
   "source": [
    "# Análisis de Componentes Principales (PCA) en el dataset del Titanic\n",
    "\n",
    "Este notebook muestra paso a paso cómo aplicar PCA al dataset del Titanic utilizando herramientas del ecosistema Python."
   ]
  },
  {
   "cell_type": "markdown",
   "id": "6822d164",
   "metadata": {},
   "source": [
    "## 1. Importar librerías necesarias\n",
    "\n",
    "Importamos las librerías que utilizaremos para manipulación de datos, visualización y análisis de componentes principales."
   ]
  },
  {
   "cell_type": "code",
   "execution_count": null,
   "id": "c06cfd10",
   "metadata": {},
   "outputs": [],
   "source": [
    "import pandas as pd\n",
    "import numpy as np\n",
    "import matplotlib.pyplot as plt\n",
    "import seaborn as sns\n",
    "\n",
    "from sklearn.preprocessing import StandardScaler\n",
    "from sklearn.decomposition import PCA"
   ]
  },
  {
   "cell_type": "markdown",
   "id": "1129e0fc",
   "metadata": {},
   "source": [
    "## 2. Cargar y explorar el dataset del Titanic\n",
    "\n",
    "Cargamos el dataset del Titanic y exploramos su estructura para entender las variables disponibles."
   ]
  },
  {
   "cell_type": "code",
   "execution_count": null,
   "id": "64eddf78",
   "metadata": {},
   "outputs": [],
   "source": [
    "# Puedes descargar el dataset desde: https://raw.githubusercontent.com/datasciencedojo/datasets/master/titanic.csv\n",
    "titanic = pd.read_csv('titanic.csv')\n",
    "\n",
    "# Mostrar las primeras filas\n",
    "titanic.head()"
   ]
  },
  {
   "cell_type": "code",
   "execution_count": null,
   "id": "540bfc64",
   "metadata": {},
   "outputs": [],
   "source": [
    "# Información general del dataset\n",
    "titanic.info()"
   ]
  },
  {
   "cell_type": "code",
   "execution_count": null,
   "id": "527ea7a8",
   "metadata": {},
   "outputs": [],
   "source": [
    "# Estadísticas descriptivas de las variables numéricas\n",
    "titanic.describe()"
   ]
  },
  {
   "cell_type": "markdown",
   "id": "5e95fd17",
   "metadata": {},
   "source": [
    "## 3. Preprocesamiento de datos (limpieza y selección de variables)\n",
    "\n",
    "Seleccionamos las variables relevantes, manejamos valores nulos y convertimos variables categóricas a numéricas."
   ]
  },
  {
   "cell_type": "code",
   "execution_count": null,
   "id": "e8351f8c",
   "metadata": {},
   "outputs": [],
   "source": [
    "# Seleccionamos variables numéricas y algunas categóricas relevantes\n",
    "variables = ['Pclass', 'Sex', 'Age', 'SibSp', 'Parch', 'Fare', 'Embarked', 'Survived']\n",
    "df = titanic[variables].copy()\n",
    "\n",
    "# Manejo de valores nulos\n",
    "df['Age'].fillna(df['Age'].median(), inplace=True)\n",
    "df['Embarked'].fillna(df['Embarked'].mode()[0], inplace=True)\n",
    "\n",
    "# Conversión de variables categóricas a numéricas\n",
    "df['Sex'] = df['Sex'].map({'male': 0, 'female': 1})\n",
    "df = pd.get_dummies(df, columns=['Embarked'], drop_first=True)\n",
    "\n",
    "df.head()"
   ]
  },
  {
   "cell_type": "markdown",
   "id": "0d9cafaa",
   "metadata": {},
   "source": [
    "## 4. Estandarización de las variables\n",
    "\n",
    "Estandarizamos las variables numéricas antes de aplicar PCA."
   ]
  },
  {
   "cell_type": "code",
   "execution_count": null,
   "id": "bebdd593",
   "metadata": {},
   "outputs": [],
   "source": [
    "# Seleccionamos las variables para PCA (excluyendo la variable objetivo 'Survived')\n",
    "features = df.drop('Survived', axis=1)\n",
    "\n",
    "scaler = StandardScaler()\n",
    "X_scaled = scaler.fit_transform(features)"
   ]
  },
  {
   "cell_type": "markdown",
   "id": "7a3ee085",
   "metadata": {},
   "source": [
    "## 5. Aplicar Análisis de Componentes Principales (PCA)\n",
    "\n",
    "Aplicamos PCA para reducir la dimensionalidad de los datos estandarizados."
   ]
  },
  {
   "cell_type": "code",
   "execution_count": null,
   "id": "24221d40",
   "metadata": {},
   "outputs": [],
   "source": [
    "# Ajustamos PCA (n_components=None para obtener todos los componentes)\n",
    "pca = PCA(n_components=None)\n",
    "X_pca = pca.fit_transform(X_scaled)"
   ]
  },
  {
   "cell_type": "markdown",
   "id": "94666995",
   "metadata": {},
   "source": [
    "## 6. Visualización de la varianza explicada\n",
    "\n",
    "Graficamos la varianza explicada por cada componente principal para decidir cuántos componentes conservar."
   ]
  },
  {
   "cell_type": "code",
   "execution_count": null,
   "id": "abaa324d",
   "metadata": {},
   "outputs": [],
   "source": [
    "plt.figure(figsize=(8,5))\n",
    "plt.plot(np.cumsum(pca.explained_variance_ratio_), marker='o')\n",
    "plt.xlabel('Número de componentes principales')\n",
    "plt.ylabel('Varianza explicada acumulada')\n",
    "plt.title('Varianza explicada por los componentes principales')\n",
    "plt.grid(True)\n",
    "plt.show()"
   ]
  },
  {
   "cell_type": "markdown",
   "id": "92267c8c",
   "metadata": {},
   "source": [
    "## 7. Visualización de los datos proyectados en los componentes principales\n",
    "\n",
    "Visualizamos los datos proyectados en los dos primeros componentes principales, diferenciando por la variable 'Survived'."
   ]
  },
  {
   "cell_type": "code",
   "execution_count": null,
   "id": "9837e627",
   "metadata": {},
   "outputs": [],
   "source": [
    "plt.figure(figsize=(8,6))\n",
    "sns.scatterplot(\n",
    "    x=X_pca[:,0], y=X_pca[:,1],\n",
    "    hue=df['Survived'],\n",
    "    palette='Set1',\n",
    "    alpha=0.7\n",
    ")\n",
    "plt.xlabel('Componente Principal 1')\n",
    "plt.ylabel('Componente Principal 2')\n",
    "plt.title('Proyección de los datos en los dos primeros componentes principales')\n",
    "plt.legend(title='Survived')\n",
    "plt.show()"
   ]
  },
  {
   "cell_type": "markdown",
   "id": "99114a0f",
   "metadata": {},
   "source": [
    "## 8. Interpretación de los componentes principales\n",
    "\n",
    "Analizamos la contribución de las variables originales a cada componente principal."
   ]
  },
  {
   "cell_type": "code",
   "execution_count": null,
   "id": "ce8bffd0",
   "metadata": {},
   "outputs": [],
   "source": [
    "# Mostramos la importancia (cargas) de cada variable en los dos primeros componentes\n",
    "componentes = pd.DataFrame(\n",
    "    pca.components_[:2],\n",
    "    columns=features.columns,\n",
    "    index=['PC1', 'PC2']\n",
    ").T\n",
    "\n",
    "componentes.plot(kind='bar', figsize=(10,6))\n",
    "plt.title('Contribución de las variables a los dos primeros componentes principales')\n",
    "plt.ylabel('Peso')\n",
    "plt.xlabel('Variable original')\n",
    "plt.grid(True)\n",
    "plt.show()\n",
    "\n",
    "componentes"
   ]
  },
  {
   "cell_type": "markdown",
   "id": "e60bfb37",
   "metadata": {},
   "source": [
    "**Conclusión:**  \n",
    "El Análisis de Componentes Principales nos permite reducir la dimensionalidad del dataset del Titanic y visualizar patrones en los datos. Analizando las cargas de los componentes principales, podemos interpretar qué variables tienen mayor influencia en cada componente."
   ]
  }
 ],
 "metadata": {
  "language_info": {
   "name": "python"
  }
 },
 "nbformat": 4,
 "nbformat_minor": 5
}
